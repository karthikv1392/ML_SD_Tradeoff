{
 "cells": [
  {
   "cell_type": "code",
   "execution_count": 29,
   "id": "7bc1dde3",
   "metadata": {},
   "outputs": [],
   "source": [
    "import time\n",
    "import pandas as pd\n",
    "import os.path"
   ]
  },
  {
   "cell_type": "code",
   "execution_count": 71,
   "id": "e9f3ecbc",
   "metadata": {},
   "outputs": [
    {
     "data": {
      "text/plain": [
       "86400000"
      ]
     },
     "execution_count": 71,
     "metadata": {},
     "output_type": "execute_result"
    }
   ],
   "source": [
    "ts_init_str = \"2022-05-10 15:22:40.367836\"\n",
    "ts_end_str = \"2022-05-10 15:25:46.445103\"\n",
    "ts_occurr_str = \"2022-05-10 15:24:12.409217\"\n",
    "\n",
    "ts_init = pd.to_datetime(ts_init_str)\n",
    "ts_end = pd.to_datetime(ts_end_str)\n",
    "ts_occurr = pd.to_datetime(ts_occurr_str)\n",
    "\n",
    "DAY_MS = 24*60*60*1000 # a day length in ms\n",
    "\n",
    "DAY_MS\n",
    "    "
   ]
  },
  {
   "cell_type": "code",
   "execution_count": 73,
   "id": "26eec2c5",
   "metadata": {},
   "outputs": [
    {
     "name": "stdout",
     "output_type": "stream",
     "text": [
      "11 54 36.54639241777477\n"
     ]
    }
   ],
   "source": [
    "def tf_hour_mapper(ts_init, ts_end, ts_occurr):\n",
    "    \"\"\"Convert the given timestamp into a 24 hour format one, on the basis of the\n",
    "       timestamp interval given\"\"\"\n",
    "    if ts_occurr == ts_init:\n",
    "        # TODO: return 00:00:00\n",
    "        return \n",
    "    if ts_occurr == ts_end:\n",
    "        # TODO: return 23:59:59\n",
    "        return \n",
    "    delta = ts_end - ts_init\n",
    "    delta_ms = delta.seconds*1000 + delta.microseconds/10 + delta.nanoseconds/100 \n",
    "    \n",
    "    occurr_delta = ts_occurr - ts_init\n",
    "    occurr_delta_ms = occurr_delta.seconds*1000 + occurr_delta.microseconds/10 + occurr_delta.nanoseconds/100\n",
    "    \n",
    "    \n",
    "    # day in ms : ms of simulated day = x : ms of ts_occurr from init\n",
    "    \n",
    "    x = DAY_MS * occurr_delta_ms / delta_ms\n",
    "    seconds = (x / 1000) % 60;\n",
    "    minutes = int((x / (1000*60)) % 60);\n",
    "    hours   = int((x / (1000*60*60)) % 24);\n",
    "    print(hours, minutes, seconds)\n",
    "    # TODO: return timestamp with the calculated metrics\n",
    "\n",
    "x = tf_hour_mapper(ts_init, ts_end, ts_occurr)\n",
    "x"
   ]
  },
  {
   "cell_type": "code",
   "execution_count": 37,
   "id": "53dcc13d",
   "metadata": {},
   "outputs": [],
   "source": [
    "def read_workload_csv(filepath) -> pd.DataFrame:\n",
    "\n",
    "    file_exists = os.path.exists(filepath)\n",
    "    \n",
    "    if not file_exists:\n",
    "        raise FileNotFoundError\n",
    "        return\n",
    "    names = ['id','timestamp','rt','instance','service']\n",
    "    \n",
    "    df = pd.read_csv(filepath, names=names)\n",
    "    \n",
    "    # drop id column\n",
    "    df.drop('id', axis=1, inplace=True)\n",
    "        \n",
    "    # s -> ms for rt column\n",
    "    df['rt'] = df['rt']*1000\n",
    "    \n",
    "    return df"
   ]
  },
  {
   "cell_type": "code",
   "execution_count": 39,
   "id": "c38f96c3",
   "metadata": {},
   "outputs": [
    {
     "data": {
      "text/html": [
       "<div>\n",
       "<style scoped>\n",
       "    .dataframe tbody tr th:only-of-type {\n",
       "        vertical-align: middle;\n",
       "    }\n",
       "\n",
       "    .dataframe tbody tr th {\n",
       "        vertical-align: top;\n",
       "    }\n",
       "\n",
       "    .dataframe thead th {\n",
       "        text-align: right;\n",
       "    }\n",
       "</style>\n",
       "<table border=\"1\" class=\"dataframe\">\n",
       "  <thead>\n",
       "    <tr style=\"text-align: right;\">\n",
       "      <th></th>\n",
       "      <th>timestamp</th>\n",
       "      <th>rt</th>\n",
       "      <th>instance</th>\n",
       "      <th>service</th>\n",
       "    </tr>\n",
       "  </thead>\n",
       "  <tbody>\n",
       "    <tr>\n",
       "      <th>0</th>\n",
       "      <td>2022-05-14 17:17:57.5526</td>\n",
       "      <td>0.006217</td>\n",
       "      <td>ml_sd_tradeoff_payment_2</td>\n",
       "      <td>payment</td>\n",
       "    </tr>\n",
       "    <tr>\n",
       "      <th>1</th>\n",
       "      <td>2022-05-14 17:17:57.557013</td>\n",
       "      <td>0.000798</td>\n",
       "      <td>ml_sd_tradeoff_payment_5</td>\n",
       "      <td>payment</td>\n",
       "    </tr>\n",
       "    <tr>\n",
       "      <th>2</th>\n",
       "      <td>2022-05-14 17:17:57.560591</td>\n",
       "      <td>0.000916</td>\n",
       "      <td>ml_sd_tradeoff_payment_3</td>\n",
       "      <td>payment</td>\n",
       "    </tr>\n",
       "    <tr>\n",
       "      <th>3</th>\n",
       "      <td>2022-05-14 17:17:57.563878</td>\n",
       "      <td>0.000540</td>\n",
       "      <td>ml_sd_tradeoff_payment_1</td>\n",
       "      <td>payment</td>\n",
       "    </tr>\n",
       "    <tr>\n",
       "      <th>4</th>\n",
       "      <td>2022-05-14 17:17:57.567307</td>\n",
       "      <td>0.000830</td>\n",
       "      <td>ml_sd_tradeoff_payment_4</td>\n",
       "      <td>payment</td>\n",
       "    </tr>\n",
       "  </tbody>\n",
       "</table>\n",
       "</div>"
      ],
      "text/plain": [
       "                    timestamp        rt                  instance  service\n",
       "0    2022-05-14 17:17:57.5526  0.006217  ml_sd_tradeoff_payment_2  payment\n",
       "1  2022-05-14 17:17:57.557013  0.000798  ml_sd_tradeoff_payment_5  payment\n",
       "2  2022-05-14 17:17:57.560591  0.000916  ml_sd_tradeoff_payment_3  payment\n",
       "3  2022-05-14 17:17:57.563878  0.000540  ml_sd_tradeoff_payment_1  payment\n",
       "4  2022-05-14 17:17:57.567307  0.000830  ml_sd_tradeoff_payment_4  payment"
      ]
     },
     "execution_count": 39,
     "metadata": {},
     "output_type": "execute_result"
    }
   ],
   "source": [
    "df = read_workload_df('../postgres/data/workload.csv')\n",
    "df.head()"
   ]
  },
  {
   "cell_type": "code",
   "execution_count": 42,
   "id": "6fae6f4b",
   "metadata": {},
   "outputs": [],
   "source": [
    "payment_df = df[df['service'].str.contains('payment')]\n",
    "catalogue_df = df[df['service'].str.contains('catalogue')]\n",
    "shipping_df = df[df['service'].str.contains('shipping')]\n",
    "order_df = df[df['service'].str.contains('order')]\n",
    "carts_df = df[df['service'].str.contains('carts')]\n",
    "user_df = df[df['service'].str.contains('user')]"
   ]
  },
  {
   "cell_type": "code",
   "execution_count": null,
   "id": "ab50df76",
   "metadata": {},
   "outputs": [],
   "source": [
    "print(payment_df.)"
   ]
  }
 ],
 "metadata": {
  "kernelspec": {
   "display_name": "Python 3 (ipykernel)",
   "language": "python",
   "name": "python3"
  },
  "language_info": {
   "codemirror_mode": {
    "name": "ipython",
    "version": 3
   },
   "file_extension": ".py",
   "mimetype": "text/x-python",
   "name": "python",
   "nbconvert_exporter": "python",
   "pygments_lexer": "ipython3",
   "version": "3.8.13"
  }
 },
 "nbformat": 4,
 "nbformat_minor": 5
}
