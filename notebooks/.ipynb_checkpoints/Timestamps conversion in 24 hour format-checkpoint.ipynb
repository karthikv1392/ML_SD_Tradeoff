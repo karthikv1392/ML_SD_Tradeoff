{
 "cells": [
  {
   "cell_type": "code",
   "execution_count": 1,
   "id": "7bc1dde3",
   "metadata": {},
   "outputs": [],
   "source": [
    "import time\n",
    "import pandas as pd"
   ]
  },
  {
   "cell_type": "code",
   "execution_count": 71,
   "id": "e9f3ecbc",
   "metadata": {},
   "outputs": [
    {
     "data": {
      "text/plain": [
       "86400000"
      ]
     },
     "execution_count": 71,
     "metadata": {},
     "output_type": "execute_result"
    }
   ],
   "source": [
    "ts_init_str = \"2022-05-10 15:22:40.367836\"\n",
    "ts_end_str = \"2022-05-10 15:25:46.445103\"\n",
    "ts_occurr_str = \"2022-05-10 15:24:12.409217\"\n",
    "\n",
    "ts_init = pd.to_datetime(ts_init_str)\n",
    "ts_end = pd.to_datetime(ts_end_str)\n",
    "ts_occurr = pd.to_datetime(ts_occurr_str)\n",
    "\n",
    "DAY_MS = 24*60*60*1000 # a day length in ms\n",
    "\n",
    "DAY_MS\n",
    "    "
   ]
  },
  {
   "cell_type": "code",
   "execution_count": 73,
   "id": "26eec2c5",
   "metadata": {},
   "outputs": [
    {
     "name": "stdout",
     "output_type": "stream",
     "text": [
      "11 54 36.54639241777477\n"
     ]
    }
   ],
   "source": [
    "def tf_hour_mapper(ts_init, ts_end, ts_occurr):\n",
    "    \"\"\"Convert the given timestamp into a 24 hour format one, on the basis of the\n",
    "       timestamp interval given\"\"\"\n",
    "    if ts_occurr == ts_init:\n",
    "        # TODO: return 00:00:00\n",
    "        return \n",
    "    if ts_occurr == ts_end:\n",
    "        # TODO: return 23:59:59\n",
    "        return \n",
    "    delta = ts_end - ts_init\n",
    "    delta_ms = delta.seconds*1000 + delta.microseconds/10 + delta.nanoseconds/100 \n",
    "    \n",
    "    occurr_delta = ts_occurr - ts_init\n",
    "    occurr_delta_ms = occurr_delta.seconds*1000 + occurr_delta.microseconds/10 + occurr_delta.nanoseconds/100\n",
    "    \n",
    "    \n",
    "    # day in ms : ms of simulated day = x : ms of ts_occurr from init\n",
    "    \n",
    "    x = DAY_MS * occurr_delta_ms / delta_ms\n",
    "    seconds = (x / 1000) % 60;\n",
    "    minutes = int((x / (1000*60)) % 60);\n",
    "    hours   = int((x / (1000*60*60)) % 24);\n",
    "    print(hours, minutes, seconds)\n",
    "    # TODO: return timestamp with the calculated metrics\n",
    "\n",
    "x = tf_hour_mapper(ts_init, ts_end, ts_occurr)\n",
    "x"
   ]
  },
  {
   "cell_type": "code",
   "execution_count": null,
   "id": "53dcc13d",
   "metadata": {},
   "outputs": [],
   "source": []
  }
 ],
 "metadata": {
  "kernelspec": {
   "display_name": "Python 3 (ipykernel)",
   "language": "python",
   "name": "python3"
  },
  "language_info": {
   "codemirror_mode": {
    "name": "ipython",
    "version": 3
   },
   "file_extension": ".py",
   "mimetype": "text/x-python",
   "name": "python",
   "nbconvert_exporter": "python",
   "pygments_lexer": "ipython3",
   "version": "3.8.13"
  }
 },
 "nbformat": 4,
 "nbformat_minor": 5
}
