{
 "cells": [
  {
   "cell_type": "code",
   "execution_count": 29,
   "id": "7bc1dde3",
   "metadata": {},
   "outputs": [],
   "source": [
    "import time\n",
    "import pandas as pd\n",
    "import os.path"
   ]
  },
  {
   "cell_type": "code",
   "execution_count": 71,
   "id": "e9f3ecbc",
   "metadata": {},
   "outputs": [
    {
     "data": {
      "text/plain": [
       "86400000"
      ]
     },
     "execution_count": 71,
     "metadata": {},
     "output_type": "execute_result"
    }
   ],
   "source": [
    "ts_init_str = \"2022-05-10 15:22:40.367836\"\n",
    "ts_end_str = \"2022-05-10 15:25:46.445103\"\n",
    "ts_occurr_str = \"2022-05-10 15:24:12.409217\"\n",
    "\n",
    "ts_init = pd.to_datetime(ts_init_str)\n",
    "ts_end = pd.to_datetime(ts_end_str)\n",
    "ts_occurr = pd.to_datetime(ts_occurr_str)\n",
    "\n",
    "DAY_MS = 24*60*60*1000 # a day length in ms\n",
    "\n",
    "DAY_MS\n",
    "    "
   ]
  },
  {
   "cell_type": "code",
   "execution_count": 73,
   "id": "26eec2c5",
   "metadata": {},
   "outputs": [
    {
     "name": "stdout",
     "output_type": "stream",
     "text": [
      "11 54 36.54639241777477\n"
     ]
    }
   ],
   "source": [
    "def tf_hour_mapper(ts_init, ts_end, ts_occurr):\n",
    "    \"\"\"Convert the given timestamp into a 24 hour format one, on the basis of the\n",
    "       timestamp interval given\"\"\"\n",
    "    if ts_occurr == ts_init:\n",
    "        # TODO: return 00:00:00\n",
    "        return \n",
    "    if ts_occurr == ts_end:\n",
    "        # TODO: return 23:59:59\n",
    "        return \n",
    "    delta = ts_end - ts_init\n",
    "    delta_ms = delta.seconds*1000 + delta.microseconds/10 + delta.nanoseconds/100 \n",
    "    \n",
    "    occurr_delta = ts_occurr - ts_init\n",
    "    occurr_delta_ms = occurr_delta.seconds*1000 + occurr_delta.microseconds/10 + occurr_delta.nanoseconds/100\n",
    "    \n",
    "    \n",
    "    # day in ms : ms of simulated day = x : ms of ts_occurr from init\n",
    "    \n",
    "    x = DAY_MS * occurr_delta_ms / delta_ms\n",
    "    seconds = (x / 1000) % 60;\n",
    "    minutes = int((x / (1000*60)) % 60);\n",
    "    hours   = int((x / (1000*60*60)) % 24);\n",
    "    print(hours, minutes, seconds)\n",
    "    # TODO: return timestamp with the calculated metrics\n",
    "\n",
    "x = tf_hour_mapper(ts_init, ts_end, ts_occurr)\n",
    "x"
   ]
  },
  {
   "cell_type": "code",
   "execution_count": 37,
   "id": "53dcc13d",
   "metadata": {},
   "outputs": [],
   "source": [
    "def read_workload_csv(filepath) -> pd.DataFrame:\n",
    "\n",
    "    file_exists = os.path.exists(filepath)\n",
    "    \n",
    "    if not file_exists:\n",
    "        raise FileNotFoundError\n",
    "        return\n",
    "    names = ['id','timestamp','rt','instance','service']\n",
    "    \n",
    "    df = pd.read_csv(filepath, names=names)\n",
    "    \n",
    "    # drop id column\n",
    "    df.drop('id', axis=1, inplace=True)\n",
    "        \n",
    "    # s -> ms for rt column\n",
    "    df['rt'] = df['rt']*1000\n",
    "    \n",
    "    return df"
   ]
  },
  {
   "cell_type": "code",
   "execution_count": 47,
   "id": "15db49f9",
   "metadata": {},
   "outputs": [
    {
     "data": {
      "text/plain": [
       "223848"
      ]
     },
     "execution_count": 47,
     "metadata": {},
     "output_type": "execute_result"
    }
   ],
   "source": [
    "df = read_workload_df('../postgres/data/workload.csv')\n",
    "df.size"
   ]
  },
  {
   "cell_type": "code",
   "execution_count": 42,
   "id": "2460e913",
   "metadata": {},
   "outputs": [],
   "source": [
    "payment_df = df[df['service'].str.contains('payment')]\n",
    "catalogue_df = df[df['service'].str.contains('catalogue')]\n",
    "shipping_df = df[df['service'].str.contains('shipping')]\n",
    "order_df = df[df['service'].str.contains('order')]\n",
    "carts_df = df[df['service'].str.contains('carts')]\n",
    "user_df = df[df['service'].str.contains('user')]"
   ]
  },
  {
   "cell_type": "code",
   "execution_count": 43,
   "id": "b333fdb7",
   "metadata": {},
   "outputs": [
    {
     "name": "stdout",
     "output_type": "stream",
     "text": [
      "52540\n",
      "111280\n",
      "0\n",
      "0\n",
      "60028\n",
      "0\n"
     ]
    }
   ],
   "source": [
    "print(payment_df.size)\n",
    "print(catalogue_df.size)\n",
    "print(shipping_df.size)\n",
    "print(order_df.size)\n",
    "print(carts_df.size)\n",
    "print(user_df.size)"
   ]
  },
  {
   "cell_type": "code",
   "execution_count": 44,
   "id": "d00247d3",
   "metadata": {},
   "outputs": [
    {
     "data": {
      "text/plain": [
       "223848"
      ]
     },
     "execution_count": 44,
     "metadata": {},
     "output_type": "execute_result"
    }
   ],
   "source": [
    "df.size"
   ]
  },
  {
   "cell_type": "code",
   "execution_count": 51,
   "id": "9502e236",
   "metadata": {},
   "outputs": [],
   "source": [
    "ts_init = df['timestamp'].min()"
   ]
  },
  {
   "cell_type": "code",
   "execution_count": 52,
   "id": "0e29d73b",
   "metadata": {},
   "outputs": [],
   "source": [
    "ts_end = df['timestamp'].max()"
   ]
  },
  {
   "cell_type": "code",
   "execution_count": 55,
   "id": "38e72e70",
   "metadata": {},
   "outputs": [
    {
     "data": {
      "text/plain": [
       "pandas._libs.tslibs.timestamps.Timestamp"
      ]
     },
     "execution_count": 55,
     "metadata": {},
     "output_type": "execute_result"
    }
   ],
   "source": [
    "ts_init = pd.to_datetime(ts_init)\n",
    "ts_end = pd.to_datetime(ts_init)\n",
    "\n",
    "DAY_MS = 24*60*60*1000 # a day length in ms\n",
    "\n",
    "days_count = 2"
   ]
  },
  {
   "cell_type": "code",
   "execution_count": null,
   "id": "d121b8a2",
   "metadata": {},
   "outputs": [],
   "source": []
  }
 ],
 "metadata": {
  "kernelspec": {
   "display_name": "Python 3 (ipykernel)",
   "language": "python",
   "name": "python3"
  },
  "language_info": {
   "codemirror_mode": {
    "name": "ipython",
    "version": 3
   },
   "file_extension": ".py",
   "mimetype": "text/x-python",
   "name": "python",
   "nbconvert_exporter": "python",
   "pygments_lexer": "ipython3",
   "version": "3.8.13"
  }
 },
 "nbformat": 4,
 "nbformat_minor": 5
}
